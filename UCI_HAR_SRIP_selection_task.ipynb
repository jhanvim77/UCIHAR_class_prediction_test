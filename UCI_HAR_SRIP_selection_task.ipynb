{
  "nbformat": 4,
  "nbformat_minor": 0,
  "metadata": {
    "colab": {
      "provenance": [],
      "gpuType": "T4"
    },
    "kernelspec": {
      "name": "python3",
      "display_name": "Python 3"
    },
    "language_info": {
      "name": "python"
    },
    "accelerator": "GPU"
  },
  "cells": [
    {
      "cell_type": "code",
      "execution_count": 1,
      "metadata": {
        "colab": {
          "base_uri": "https://localhost:8080/"
        },
        "id": "G69UbuG_NIPB",
        "outputId": "1c2d6648-62da-49a8-d585-7b7625bd0d01"
      },
      "outputs": [
        {
          "output_type": "stream",
          "name": "stdout",
          "text": [
            "--2025-03-02 06:30:56--  https://archive.ics.uci.edu/ml/machine-learning-databases/00240/UCI%20HAR%20Dataset.zip\n",
            "Resolving archive.ics.uci.edu (archive.ics.uci.edu)... 128.195.10.252\n",
            "Connecting to archive.ics.uci.edu (archive.ics.uci.edu)|128.195.10.252|:443... connected.\n",
            "HTTP request sent, awaiting response... 200 OK\n",
            "Length: unspecified\n",
            "Saving to: ‘UCI HAR Dataset.zip’\n",
            "\n",
            "UCI HAR Dataset.zip     [     <=>            ]  58.17M  3.65MB/s    in 9.5s    \n",
            "\n",
            "2025-03-02 06:31:07 (6.13 MB/s) - ‘UCI HAR Dataset.zip’ saved [60999314]\n",
            "\n"
          ]
        }
      ],
      "source": [
        "!wget https://archive.ics.uci.edu/ml/machine-learning-databases/00240/UCI%20HAR%20Dataset.zip\n",
        "!unzip -q \"UCI HAR Dataset.zip\"\n",
        "# we load the dataset"
      ]
    },
    {
      "cell_type": "code",
      "source": [
        "import numpy as np\n",
        "\n",
        "def load_data(path, prefix1, prefix2):\n",
        "    x = np.loadtxt(f'{path}/{prefix1}_x{prefix2}.txt')\n",
        "    y = np.loadtxt(f'{path}/{prefix1}_y{prefix2}.txt')\n",
        "    z = np.loadtxt(f'{path}/{prefix1}_z{prefix2}.txt')\n",
        "    return np.stack([x, y, z], axis=-1)\n",
        "\n",
        "# training data\n",
        "train_body_acc = load_data('UCI HAR Dataset/train/Inertial Signals', 'body_acc', '_train')\n",
        "train_body_gyro = load_data('UCI HAR Dataset/train/Inertial Signals', 'body_gyro', '_train')\n",
        "X_train_raw = np.concatenate([train_body_acc, train_body_gyro], axis=-1)\n",
        "\n",
        "#testing data\n",
        "test_body_acc = load_data('UCI HAR Dataset/test/Inertial Signals', 'body_acc', '_test')\n",
        "test_body_gyro = load_data('UCI HAR Dataset/test/Inertial Signals', 'body_gyro', '_test')\n",
        "X_test_raw = np.concatenate([test_body_acc, test_body_gyro], axis=-1)\n",
        "\n",
        "y_train = np.loadtxt('UCI HAR Dataset/train/y_train.txt') - 1\n",
        "y_test = np.loadtxt('UCI HAR Dataset/test/y_test.txt') - 1\n",
        " # Convert to 0-based"
      ],
      "metadata": {
        "id": "b50J2d2dNOPk"
      },
      "execution_count": 2,
      "outputs": []
    },
    {
      "cell_type": "code",
      "source": [
        "import tensorflow as tf\n",
        "from tensorflow.keras.models import Sequential\n",
        "from tensorflow.keras.layers import LSTM, Dense, Dropout, Conv1D, MaxPooling1D, Flatten\n",
        "\n",
        "# normalize data for smooth and stable training\n",
        "mean, std = X_train_raw.mean(axis=(0,1)), X_train_raw.std(axis=(0,1))\n",
        "X_train_norm = (X_train_raw - mean) / (std + 1e-8)\n",
        "X_test_norm = (X_test_raw - mean) / (std + 1e-8)"
      ],
      "metadata": {
        "id": "8Nj81V9tNSq2"
      },
      "execution_count": 16,
      "outputs": []
    },
    {
      "cell_type": "code",
      "source": [
        "!pip install tsfel"
      ],
      "metadata": {
        "colab": {
          "base_uri": "https://localhost:8080/"
        },
        "id": "R_r9HfedRD40",
        "outputId": "648ef0a4-f40b-40ab-fdae-4a0633f1a2e5"
      },
      "execution_count": 4,
      "outputs": [
        {
          "output_type": "stream",
          "name": "stdout",
          "text": [
            "Collecting tsfel\n",
            "  Downloading tsfel-0.1.9-py3-none-any.whl.metadata (9.3 kB)\n",
            "Requirement already satisfied: ipython>=7.4.0 in /usr/local/lib/python3.11/dist-packages (from tsfel) (7.34.0)\n",
            "Requirement already satisfied: numpy>=1.18.5 in /usr/local/lib/python3.11/dist-packages (from tsfel) (1.26.4)\n",
            "Requirement already satisfied: pandas>=1.5.3 in /usr/local/lib/python3.11/dist-packages (from tsfel) (2.2.2)\n",
            "Collecting PyWavelets>=1.4.1 (from tsfel)\n",
            "  Downloading pywavelets-1.8.0-cp311-cp311-manylinux_2_17_x86_64.manylinux2014_x86_64.whl.metadata (9.0 kB)\n",
            "Requirement already satisfied: requests>=2.31.0 in /usr/local/lib/python3.11/dist-packages (from tsfel) (2.32.3)\n",
            "Requirement already satisfied: scikit-learn>=0.21.3 in /usr/local/lib/python3.11/dist-packages (from tsfel) (1.6.1)\n",
            "Requirement already satisfied: scipy>=1.7.3 in /usr/local/lib/python3.11/dist-packages (from tsfel) (1.13.1)\n",
            "Requirement already satisfied: setuptools>=47.1.1 in /usr/local/lib/python3.11/dist-packages (from tsfel) (75.1.0)\n",
            "Requirement already satisfied: statsmodels>=0.12.0 in /usr/local/lib/python3.11/dist-packages (from tsfel) (0.14.4)\n",
            "Collecting jedi>=0.16 (from ipython>=7.4.0->tsfel)\n",
            "  Downloading jedi-0.19.2-py2.py3-none-any.whl.metadata (22 kB)\n",
            "Requirement already satisfied: decorator in /usr/local/lib/python3.11/dist-packages (from ipython>=7.4.0->tsfel) (4.4.2)\n",
            "Requirement already satisfied: pickleshare in /usr/local/lib/python3.11/dist-packages (from ipython>=7.4.0->tsfel) (0.7.5)\n",
            "Requirement already satisfied: traitlets>=4.2 in /usr/local/lib/python3.11/dist-packages (from ipython>=7.4.0->tsfel) (5.7.1)\n",
            "Requirement already satisfied: prompt-toolkit!=3.0.0,!=3.0.1,<3.1.0,>=2.0.0 in /usr/local/lib/python3.11/dist-packages (from ipython>=7.4.0->tsfel) (3.0.50)\n",
            "Requirement already satisfied: pygments in /usr/local/lib/python3.11/dist-packages (from ipython>=7.4.0->tsfel) (2.18.0)\n",
            "Requirement already satisfied: backcall in /usr/local/lib/python3.11/dist-packages (from ipython>=7.4.0->tsfel) (0.2.0)\n",
            "Requirement already satisfied: matplotlib-inline in /usr/local/lib/python3.11/dist-packages (from ipython>=7.4.0->tsfel) (0.1.7)\n",
            "Requirement already satisfied: pexpect>4.3 in /usr/local/lib/python3.11/dist-packages (from ipython>=7.4.0->tsfel) (4.9.0)\n",
            "Requirement already satisfied: python-dateutil>=2.8.2 in /usr/local/lib/python3.11/dist-packages (from pandas>=1.5.3->tsfel) (2.8.2)\n",
            "Requirement already satisfied: pytz>=2020.1 in /usr/local/lib/python3.11/dist-packages (from pandas>=1.5.3->tsfel) (2025.1)\n",
            "Requirement already satisfied: tzdata>=2022.7 in /usr/local/lib/python3.11/dist-packages (from pandas>=1.5.3->tsfel) (2025.1)\n",
            "Requirement already satisfied: charset-normalizer<4,>=2 in /usr/local/lib/python3.11/dist-packages (from requests>=2.31.0->tsfel) (3.4.1)\n",
            "Requirement already satisfied: idna<4,>=2.5 in /usr/local/lib/python3.11/dist-packages (from requests>=2.31.0->tsfel) (3.10)\n",
            "Requirement already satisfied: urllib3<3,>=1.21.1 in /usr/local/lib/python3.11/dist-packages (from requests>=2.31.0->tsfel) (2.3.0)\n",
            "Requirement already satisfied: certifi>=2017.4.17 in /usr/local/lib/python3.11/dist-packages (from requests>=2.31.0->tsfel) (2025.1.31)\n",
            "Requirement already satisfied: joblib>=1.2.0 in /usr/local/lib/python3.11/dist-packages (from scikit-learn>=0.21.3->tsfel) (1.4.2)\n",
            "Requirement already satisfied: threadpoolctl>=3.1.0 in /usr/local/lib/python3.11/dist-packages (from scikit-learn>=0.21.3->tsfel) (3.5.0)\n",
            "Requirement already satisfied: patsy>=0.5.6 in /usr/local/lib/python3.11/dist-packages (from statsmodels>=0.12.0->tsfel) (1.0.1)\n",
            "Requirement already satisfied: packaging>=21.3 in /usr/local/lib/python3.11/dist-packages (from statsmodels>=0.12.0->tsfel) (24.2)\n",
            "Requirement already satisfied: parso<0.9.0,>=0.8.4 in /usr/local/lib/python3.11/dist-packages (from jedi>=0.16->ipython>=7.4.0->tsfel) (0.8.4)\n",
            "Requirement already satisfied: ptyprocess>=0.5 in /usr/local/lib/python3.11/dist-packages (from pexpect>4.3->ipython>=7.4.0->tsfel) (0.7.0)\n",
            "Requirement already satisfied: wcwidth in /usr/local/lib/python3.11/dist-packages (from prompt-toolkit!=3.0.0,!=3.0.1,<3.1.0,>=2.0.0->ipython>=7.4.0->tsfel) (0.2.13)\n",
            "Requirement already satisfied: six>=1.5 in /usr/local/lib/python3.11/dist-packages (from python-dateutil>=2.8.2->pandas>=1.5.3->tsfel) (1.17.0)\n",
            "Downloading tsfel-0.1.9-py3-none-any.whl (62 kB)\n",
            "\u001b[2K   \u001b[90m━━━━━━━━━━━━━━━━━━━━━━━━━━━━━━━━━━━━━━━━\u001b[0m \u001b[32m63.0/63.0 kB\u001b[0m \u001b[31m6.0 MB/s\u001b[0m eta \u001b[36m0:00:00\u001b[0m\n",
            "\u001b[?25hDownloading pywavelets-1.8.0-cp311-cp311-manylinux_2_17_x86_64.manylinux2014_x86_64.whl (4.5 MB)\n",
            "\u001b[2K   \u001b[90m━━━━━━━━━━━━━━━━━━━━━━━━━━━━━━━━━━━━━━━━\u001b[0m \u001b[32m4.5/4.5 MB\u001b[0m \u001b[31m82.6 MB/s\u001b[0m eta \u001b[36m0:00:00\u001b[0m\n",
            "\u001b[?25hDownloading jedi-0.19.2-py2.py3-none-any.whl (1.6 MB)\n",
            "\u001b[2K   \u001b[90m━━━━━━━━━━━━━━━━━━━━━━━━━━━━━━━━━━━━━━━━\u001b[0m \u001b[32m1.6/1.6 MB\u001b[0m \u001b[31m66.6 MB/s\u001b[0m eta \u001b[36m0:00:00\u001b[0m\n",
            "\u001b[?25hInstalling collected packages: PyWavelets, jedi, tsfel\n",
            "Successfully installed PyWavelets-1.8.0 jedi-0.19.2 tsfel-0.1.9\n"
          ]
        }
      ]
    },
    {
      "cell_type": "code",
      "source": [
        "import tsfel\n",
        "from tqdm import tqdm\n",
        "import pandas as pd\n",
        "from sklearn.impute import SimpleImputer\n",
        "\n",
        "\n",
        "cfg = tsfel.get_features_by_domain()\n",
        "\n",
        "def bulk_feature_extraction(data):\n",
        "    reshaped_data = data.reshape(-1, 6)\n",
        "\n",
        "    time = np.arange(len(reshaped_data)) / 50  # 50Hz sampling rate\n",
        "\n",
        "    features = tsfel.time_series_features_extractor(\n",
        "        cfg,\n",
        "        reshaped_data,\n",
        "        fs=50,\n",
        "        window_size=128,\n",
        "        overlap=0,\n",
        "        verbose=1\n",
        "    )\n",
        "    return features.values.reshape(len(data), -1)\n",
        "\n",
        "\n",
        "print(\"Processing training data-\")\n",
        "X_train_tsfel = bulk_feature_extraction(X_train_raw)\n",
        "\n",
        "print(\"Processing test data-\")\n",
        "X_test_tsfel = bulk_feature_extraction(X_test_raw)\n",
        "\n",
        "\n",
        "imputer = SimpleImputer(strategy='mean')\n",
        "X_train_tsfel = imputer.fit_transform(X_train_tsfel)\n",
        "X_test_tsfel = imputer.transform(X_test_tsfel)\n",
        "\n",
        "\n",
        "np.save('X_train_tsfel_1.npy', X_train_tsfel)\n",
        "np.save('X_test_tsfel_1.npy', X_test_tsfel)"
      ],
      "metadata": {
        "colab": {
          "base_uri": "https://localhost:8080/",
          "height": 157
        },
        "id": "TkYngKtvPTva",
        "outputId": "f1ef7092-cbe3-4452-d043-e60f54859f31"
      },
      "execution_count": 5,
      "outputs": [
        {
          "output_type": "stream",
          "name": "stdout",
          "text": [
            "Processing training data-\n"
          ]
        },
        {
          "output_type": "display_data",
          "data": {
            "text/plain": [
              "<IPython.core.display.HTML object>"
            ],
            "text/html": [
              "\n",
              "              <p>\n",
              "                  Progress: 100% Complete\n",
              "              <p/>\n",
              "              <progress\n",
              "                  value='7352'\n",
              "                  max='7352',\n",
              "                  style='width: 25%',\n",
              "              >\n",
              "                  7352\n",
              "              </progress>\n",
              "\n",
              "    "
            ]
          },
          "metadata": {}
        },
        {
          "output_type": "stream",
          "name": "stdout",
          "text": [
            "Processing test data-\n"
          ]
        },
        {
          "output_type": "display_data",
          "data": {
            "text/plain": [
              "<IPython.core.display.HTML object>"
            ],
            "text/html": [
              "\n",
              "              <p>\n",
              "                  Progress: 100% Complete\n",
              "              <p/>\n",
              "              <progress\n",
              "                  value='2947'\n",
              "                  max='2947',\n",
              "                  style='width: 25%',\n",
              "              >\n",
              "                  2947\n",
              "              </progress>\n",
              "\n",
              "    "
            ]
          },
          "metadata": {}
        }
      ]
    },
    {
      "cell_type": "code",
      "source": [
        "# Now we load the original precomputed features from UCI HAR dataset\n",
        "X_train_orig = np.loadtxt('UCI HAR Dataset/train/X_train.txt')\n",
        "X_test_orig = np.loadtxt('UCI HAR Dataset/test/X_test.txt')\n",
        "\n",
        "#we already loaded the original labels earlier"
      ],
      "metadata": {
        "id": "rN6BmKn-SvpS"
      },
      "execution_count": 6,
      "outputs": []
    },
    {
      "cell_type": "code",
      "source": [
        "from sklearn.preprocessing import StandardScaler\n",
        "\n",
        "# Scaling original features (TSFEL features already scaled)\n",
        "scaler = StandardScaler()\n",
        "X_train_orig_scaled = scaler.fit_transform(X_train_orig)\n",
        "X_test_orig_scaled = scaler.transform(X_test_orig)"
      ],
      "metadata": {
        "id": "ui9700CASzIU"
      },
      "execution_count": 7,
      "outputs": []
    },
    {
      "cell_type": "code",
      "source": [
        "from sklearn.ensemble import RandomForestClassifier\n",
        "from sklearn.svm import SVC\n",
        "from sklearn.linear_model import LogisticRegression\n",
        "from sklearn.metrics import classification_report\n",
        "\n",
        "def train_evaluate(model, X_train, X_test, name):\n",
        "    model.fit(X_train, y_train)\n",
        "    y_pred = model.predict(X_test)\n",
        "    print(f\"\\n{name} Performance:\")\n",
        "    print(classification_report(y_test, y_pred))\n",
        "\n",
        "# Train on TSFEL features\n",
        "models = {\n",
        "    \"Random Forest\": RandomForestClassifier(n_estimators=100),\n",
        "    \"SVM\": SVC(kernel='rbf'),\n",
        "    \"Logistic Regression\": LogisticRegression(max_iter=1000)\n",
        "}\n",
        "\n",
        "for name, model in models.items():\n",
        "    train_evaluate(model, X_train_tsfel, X_test_tsfel, f\"{name} (TSFEL)\")\n",
        "\n",
        "# Train on Original Features\n",
        "for name, model in models.items():\n",
        "    train_evaluate(model, X_train_orig_scaled, X_test_orig_scaled, f\"{name} (Original)\")"
      ],
      "metadata": {
        "colab": {
          "base_uri": "https://localhost:8080/"
        },
        "id": "H1Q71l-mS4d2",
        "outputId": "3bff2303-b4a4-4625-a018-7f00f7c56a78"
      },
      "execution_count": 8,
      "outputs": [
        {
          "output_type": "stream",
          "name": "stdout",
          "text": [
            "\n",
            "Random Forest (TSFEL) Performance:\n",
            "              precision    recall  f1-score   support\n",
            "\n",
            "         0.0       0.95      0.99      0.97       496\n",
            "         1.0       0.95      0.97      0.96       471\n",
            "         2.0       0.96      0.88      0.92       420\n",
            "         3.0       0.86      0.82      0.84       491\n",
            "         4.0       0.85      0.94      0.89       532\n",
            "         5.0       0.93      0.88      0.90       537\n",
            "\n",
            "    accuracy                           0.91      2947\n",
            "   macro avg       0.92      0.91      0.91      2947\n",
            "weighted avg       0.91      0.91      0.91      2947\n",
            "\n",
            "\n",
            "SVM (TSFEL) Performance:\n",
            "              precision    recall  f1-score   support\n",
            "\n",
            "         0.0       0.77      0.81      0.79       496\n",
            "         1.0       0.71      0.81      0.75       471\n",
            "         2.0       0.88      0.71      0.79       420\n",
            "         3.0       0.70      0.71      0.71       491\n",
            "         4.0       0.77      0.76      0.76       532\n",
            "         5.0       0.78      0.78      0.78       537\n",
            "\n",
            "    accuracy                           0.76      2947\n",
            "   macro avg       0.77      0.76      0.76      2947\n",
            "weighted avg       0.77      0.76      0.76      2947\n",
            "\n"
          ]
        },
        {
          "output_type": "stream",
          "name": "stderr",
          "text": [
            "/usr/local/lib/python3.11/dist-packages/sklearn/linear_model/_logistic.py:465: ConvergenceWarning: lbfgs failed to converge (status=1):\n",
            "STOP: TOTAL NO. of ITERATIONS REACHED LIMIT.\n",
            "\n",
            "Increase the number of iterations (max_iter) or scale the data as shown in:\n",
            "    https://scikit-learn.org/stable/modules/preprocessing.html\n",
            "Please also refer to the documentation for alternative solver options:\n",
            "    https://scikit-learn.org/stable/modules/linear_model.html#logistic-regression\n",
            "  n_iter_i = _check_optimize_result(\n"
          ]
        },
        {
          "output_type": "stream",
          "name": "stdout",
          "text": [
            "\n",
            "Logistic Regression (TSFEL) Performance:\n",
            "              precision    recall  f1-score   support\n",
            "\n",
            "         0.0       0.89      0.95      0.92       496\n",
            "         1.0       0.93      0.92      0.92       471\n",
            "         2.0       0.93      0.85      0.89       420\n",
            "         3.0       0.76      0.74      0.75       491\n",
            "         4.0       0.80      0.84      0.82       532\n",
            "         5.0       0.83      0.82      0.83       537\n",
            "\n",
            "    accuracy                           0.85      2947\n",
            "   macro avg       0.86      0.85      0.85      2947\n",
            "weighted avg       0.85      0.85      0.85      2947\n",
            "\n",
            "\n",
            "Random Forest (Original) Performance:\n",
            "              precision    recall  f1-score   support\n",
            "\n",
            "         0.0       0.89      0.96      0.93       496\n",
            "         1.0       0.89      0.91      0.90       471\n",
            "         2.0       0.95      0.84      0.90       420\n",
            "         3.0       0.91      0.91      0.91       491\n",
            "         4.0       0.92      0.91      0.92       532\n",
            "         5.0       1.00      1.00      1.00       537\n",
            "\n",
            "    accuracy                           0.93      2947\n",
            "   macro avg       0.93      0.92      0.92      2947\n",
            "weighted avg       0.93      0.93      0.93      2947\n",
            "\n",
            "\n",
            "SVM (Original) Performance:\n",
            "              precision    recall  f1-score   support\n",
            "\n",
            "         0.0       0.96      0.97      0.97       496\n",
            "         1.0       0.93      0.97      0.95       471\n",
            "         2.0       0.98      0.92      0.95       420\n",
            "         3.0       0.94      0.90      0.92       491\n",
            "         4.0       0.92      0.95      0.93       532\n",
            "         5.0       1.00      1.00      1.00       537\n",
            "\n",
            "    accuracy                           0.95      2947\n",
            "   macro avg       0.95      0.95      0.95      2947\n",
            "weighted avg       0.95      0.95      0.95      2947\n",
            "\n",
            "\n",
            "Logistic Regression (Original) Performance:\n",
            "              precision    recall  f1-score   support\n",
            "\n",
            "         0.0       0.95      0.99      0.97       496\n",
            "         1.0       0.96      0.95      0.96       471\n",
            "         2.0       0.99      0.94      0.96       420\n",
            "         3.0       0.97      0.88      0.92       491\n",
            "         4.0       0.89      0.98      0.93       532\n",
            "         5.0       1.00      0.99      1.00       537\n",
            "\n",
            "    accuracy                           0.96      2947\n",
            "   macro avg       0.96      0.96      0.96      2947\n",
            "weighted avg       0.96      0.96      0.96      2947\n",
            "\n"
          ]
        }
      ]
    },
    {
      "cell_type": "markdown",
      "source": [
        "# **DEEP LEARNING METHODS: LSTM, CNN, CNN-LSTM. **\n",
        "on extracted features data from raw accelerometer and gyrometer readings. (NOT TSFEL)\n",
        "\n"
      ],
      "metadata": {
        "id": "_Y76tYhj0B2r"
      }
    },
    {
      "cell_type": "code",
      "source": [
        "import tensorflow as tf\n",
        "from tensorflow.keras.models import Sequential\n",
        "from tensorflow.keras.layers import LSTM, Dense, Conv1D, MaxPooling1D, Flatten\n",
        "\n",
        "# using raw data (X_train_raw, X_test_raw)\n",
        "# Normalize\n",
        "mean, std = X_train_raw.mean(axis=(0,1)), X_train_raw.std(axis=(0,1))\n",
        "X_train_norm = (X_train_raw - mean) / (std + 1e-8)\n",
        "X_test_norm = (X_test_raw - mean) / (std + 1e-8)\n",
        "\n",
        "# LSTM Model\n",
        "model_lstm = Sequential([\n",
        "    LSTM(64, input_shape=(128, 6)),\n",
        "    Dense(32, activation='relu'),\n",
        "    Dense(6, activation='softmax')\n",
        "])\n",
        "model_lstm.compile(loss='sparse_categorical_crossentropy', optimizer='adam', metrics=['accuracy'])\n",
        "\n",
        "#  CNN Model\n",
        "model_cnn = Sequential([\n",
        "    Conv1D(64, 3, activation='relu', input_shape=(128, 6)),\n",
        "    MaxPooling1D(2),\n",
        "    Flatten(),\n",
        "    Dense(64, activation='relu'),\n",
        "    Dense(6, activation='softmax')\n",
        "])\n",
        "model_cnn.compile(loss='sparse_categorical_crossentropy', optimizer='adam', metrics=['accuracy'])\n",
        "\n",
        "# Hybrid CNN-LSTM Model\n",
        "model_cnn_lstm = Sequential([\n",
        "    # CNN Layers\n",
        "    Conv1D(64, 3, activation='relu', input_shape=(128, 6)),\n",
        "    MaxPooling1D(2),\n",
        "    Conv1D(128, 3, activation='relu'),\n",
        "    MaxPooling1D(2),\n",
        "\n",
        "    # LSTM Layer\n",
        "    LSTM(64, return_sequences=False),\n",
        "\n",
        "    Dense(64, activation='relu'),\n",
        "    Dense(6, activation='softmax')\n",
        "])\n",
        "model_cnn_lstm.compile(optimizer='adam', loss='sparse_categorical_crossentropy', metrics=['accuracy'])\n",
        "\n",
        "# Train\n",
        "history_lstm = model_lstm.fit(X_train_norm, y_train, epochs=15, batch_size=64, validation_split=0.2)\n",
        "history_cnn = model_cnn.fit(X_train_norm, y_train, epochs=15, batch_size=64, validation_split=0.2)\n",
        "history_cnn_lstm = model_cnn_lstm.fit(X_train_norm, y_train, epochs=20,batch_size=64,validation_split=0.2)"
      ],
      "metadata": {
        "colab": {
          "base_uri": "https://localhost:8080/"
        },
        "id": "5rRzMfE1TECy",
        "outputId": "f8718b9b-1eac-48cf-9cd9-d67bebaa60c4"
      },
      "execution_count": 10,
      "outputs": [
        {
          "output_type": "stream",
          "name": "stderr",
          "text": [
            "/usr/local/lib/python3.11/dist-packages/keras/src/layers/rnn/rnn.py:200: UserWarning: Do not pass an `input_shape`/`input_dim` argument to a layer. When using Sequential models, prefer using an `Input(shape)` object as the first layer in the model instead.\n",
            "  super().__init__(**kwargs)\n",
            "/usr/local/lib/python3.11/dist-packages/keras/src/layers/convolutional/base_conv.py:107: UserWarning: Do not pass an `input_shape`/`input_dim` argument to a layer. When using Sequential models, prefer using an `Input(shape)` object as the first layer in the model instead.\n",
            "  super().__init__(activity_regularizer=activity_regularizer, **kwargs)\n"
          ]
        },
        {
          "output_type": "stream",
          "name": "stdout",
          "text": [
            "Epoch 1/15\n",
            "\u001b[1m92/92\u001b[0m \u001b[32m━━━━━━━━━━━━━━━━━━━━\u001b[0m\u001b[37m\u001b[0m \u001b[1m3s\u001b[0m 13ms/step - accuracy: 0.2772 - loss: 1.6390 - val_accuracy: 0.4099 - val_loss: 1.0728\n",
            "Epoch 2/15\n",
            "\u001b[1m92/92\u001b[0m \u001b[32m━━━━━━━━━━━━━━━━━━━━\u001b[0m\u001b[37m\u001b[0m \u001b[1m1s\u001b[0m 9ms/step - accuracy: 0.4684 - loss: 0.9918 - val_accuracy: 0.5588 - val_loss: 0.8084\n",
            "Epoch 3/15\n",
            "\u001b[1m92/92\u001b[0m \u001b[32m━━━━━━━━━━━━━━━━━━━━\u001b[0m\u001b[37m\u001b[0m \u001b[1m1s\u001b[0m 9ms/step - accuracy: 0.5945 - loss: 0.7619 - val_accuracy: 0.6179 - val_loss: 0.6492\n",
            "Epoch 4/15\n",
            "\u001b[1m92/92\u001b[0m \u001b[32m━━━━━━━━━━━━━━━━━━━━\u001b[0m\u001b[37m\u001b[0m \u001b[1m1s\u001b[0m 8ms/step - accuracy: 0.6083 - loss: 0.6728 - val_accuracy: 0.6111 - val_loss: 0.6342\n",
            "Epoch 5/15\n",
            "\u001b[1m92/92\u001b[0m \u001b[32m━━━━━━━━━━━━━━━━━━━━\u001b[0m\u001b[37m\u001b[0m \u001b[1m1s\u001b[0m 9ms/step - accuracy: 0.6348 - loss: 0.6262 - val_accuracy: 0.6193 - val_loss: 0.6324\n",
            "Epoch 6/15\n",
            "\u001b[1m92/92\u001b[0m \u001b[32m━━━━━━━━━━━━━━━━━━━━\u001b[0m\u001b[37m\u001b[0m \u001b[1m1s\u001b[0m 9ms/step - accuracy: 0.6390 - loss: 0.6233 - val_accuracy: 0.6159 - val_loss: 0.6454\n",
            "Epoch 7/15\n",
            "\u001b[1m92/92\u001b[0m \u001b[32m━━━━━━━━━━━━━━━━━━━━\u001b[0m\u001b[37m\u001b[0m \u001b[1m1s\u001b[0m 9ms/step - accuracy: 0.6486 - loss: 0.6231 - val_accuracy: 0.6173 - val_loss: 0.6757\n",
            "Epoch 8/15\n",
            "\u001b[1m92/92\u001b[0m \u001b[32m━━━━━━━━━━━━━━━━━━━━\u001b[0m\u001b[37m\u001b[0m \u001b[1m1s\u001b[0m 8ms/step - accuracy: 0.6278 - loss: 0.6458 - val_accuracy: 0.6173 - val_loss: 0.6321\n",
            "Epoch 9/15\n",
            "\u001b[1m92/92\u001b[0m \u001b[32m━━━━━━━━━━━━━━━━━━━━\u001b[0m\u001b[37m\u001b[0m \u001b[1m1s\u001b[0m 8ms/step - accuracy: 0.6206 - loss: 0.6175 - val_accuracy: 0.6145 - val_loss: 0.6302\n",
            "Epoch 10/15\n",
            "\u001b[1m92/92\u001b[0m \u001b[32m━━━━━━━━━━━━━━━━━━━━\u001b[0m\u001b[37m\u001b[0m \u001b[1m2s\u001b[0m 14ms/step - accuracy: 0.6467 - loss: 0.6024 - val_accuracy: 0.6159 - val_loss: 0.6264\n",
            "Epoch 11/15\n",
            "\u001b[1m92/92\u001b[0m \u001b[32m━━━━━━━━━━━━━━━━━━━━\u001b[0m\u001b[37m\u001b[0m \u001b[1m1s\u001b[0m 11ms/step - accuracy: 0.6512 - loss: 0.6041 - val_accuracy: 0.6220 - val_loss: 0.6284\n",
            "Epoch 12/15\n",
            "\u001b[1m92/92\u001b[0m \u001b[32m━━━━━━━━━━━━━━━━━━━━\u001b[0m\u001b[37m\u001b[0m \u001b[1m1s\u001b[0m 9ms/step - accuracy: 0.6386 - loss: 0.6123 - val_accuracy: 0.6193 - val_loss: 0.6298\n",
            "Epoch 13/15\n",
            "\u001b[1m92/92\u001b[0m \u001b[32m━━━━━━━━━━━━━━━━━━━━\u001b[0m\u001b[37m\u001b[0m \u001b[1m1s\u001b[0m 9ms/step - accuracy: 0.6481 - loss: 0.6254 - val_accuracy: 0.6431 - val_loss: 0.6241\n",
            "Epoch 14/15\n",
            "\u001b[1m92/92\u001b[0m \u001b[32m━━━━━━━━━━━━━━━━━━━━\u001b[0m\u001b[37m\u001b[0m \u001b[1m1s\u001b[0m 9ms/step - accuracy: 0.6407 - loss: 0.6098 - val_accuracy: 0.6064 - val_loss: 0.6415\n",
            "Epoch 15/15\n",
            "\u001b[1m92/92\u001b[0m \u001b[32m━━━━━━━━━━━━━━━━━━━━\u001b[0m\u001b[37m\u001b[0m \u001b[1m1s\u001b[0m 9ms/step - accuracy: 0.6503 - loss: 0.6493 - val_accuracy: 0.6241 - val_loss: 0.6301\n",
            "Epoch 1/15\n",
            "\u001b[1m92/92\u001b[0m \u001b[32m━━━━━━━━━━━━━━━━━━━━\u001b[0m\u001b[37m\u001b[0m \u001b[1m4s\u001b[0m 27ms/step - accuracy: 0.3689 - loss: 1.4427 - val_accuracy: 0.6961 - val_loss: 0.7059\n",
            "Epoch 2/15\n",
            "\u001b[1m92/92\u001b[0m \u001b[32m━━━━━━━━━━━━━━━━━━━━\u001b[0m\u001b[37m\u001b[0m \u001b[1m2s\u001b[0m 5ms/step - accuracy: 0.6955 - loss: 0.6164 - val_accuracy: 0.7016 - val_loss: 0.5887\n",
            "Epoch 3/15\n",
            "\u001b[1m92/92\u001b[0m \u001b[32m━━━━━━━━━━━━━━━━━━━━\u001b[0m\u001b[37m\u001b[0m \u001b[1m1s\u001b[0m 6ms/step - accuracy: 0.7328 - loss: 0.5379 - val_accuracy: 0.7226 - val_loss: 0.5542\n",
            "Epoch 4/15\n",
            "\u001b[1m92/92\u001b[0m \u001b[32m━━━━━━━━━━━━━━━━━━━━\u001b[0m\u001b[37m\u001b[0m \u001b[1m1s\u001b[0m 6ms/step - accuracy: 0.7761 - loss: 0.4847 - val_accuracy: 0.7695 - val_loss: 0.5223\n",
            "Epoch 5/15\n",
            "\u001b[1m92/92\u001b[0m \u001b[32m━━━━━━━━━━━━━━━━━━━━\u001b[0m\u001b[37m\u001b[0m \u001b[1m0s\u001b[0m 4ms/step - accuracy: 0.8128 - loss: 0.4429 - val_accuracy: 0.7988 - val_loss: 0.4928\n",
            "Epoch 6/15\n",
            "\u001b[1m92/92\u001b[0m \u001b[32m━━━━━━━━━━━━━━━━━━━━\u001b[0m\u001b[37m\u001b[0m \u001b[1m0s\u001b[0m 4ms/step - accuracy: 0.8464 - loss: 0.4014 - val_accuracy: 0.8348 - val_loss: 0.4781\n",
            "Epoch 7/15\n",
            "\u001b[1m92/92\u001b[0m \u001b[32m━━━━━━━━━━━━━━━━━━━━\u001b[0m\u001b[37m\u001b[0m \u001b[1m1s\u001b[0m 3ms/step - accuracy: 0.8357 - loss: 0.3930 - val_accuracy: 0.8294 - val_loss: 0.4571\n",
            "Epoch 8/15\n",
            "\u001b[1m92/92\u001b[0m \u001b[32m━━━━━━━━━━━━━━━━━━━━\u001b[0m\u001b[37m\u001b[0m \u001b[1m1s\u001b[0m 4ms/step - accuracy: 0.8781 - loss: 0.3336 - val_accuracy: 0.8491 - val_loss: 0.4133\n",
            "Epoch 9/15\n",
            "\u001b[1m92/92\u001b[0m \u001b[32m━━━━━━━━━━━━━━━━━━━━\u001b[0m\u001b[37m\u001b[0m \u001b[1m1s\u001b[0m 3ms/step - accuracy: 0.8874 - loss: 0.3186 - val_accuracy: 0.8545 - val_loss: 0.3937\n",
            "Epoch 10/15\n",
            "\u001b[1m92/92\u001b[0m \u001b[32m━━━━━━━━━━━━━━━━━━━━\u001b[0m\u001b[37m\u001b[0m \u001b[1m1s\u001b[0m 4ms/step - accuracy: 0.8759 - loss: 0.3028 - val_accuracy: 0.8443 - val_loss: 0.4310\n",
            "Epoch 11/15\n",
            "\u001b[1m92/92\u001b[0m \u001b[32m━━━━━━━━━━━━━━━━━━━━\u001b[0m\u001b[37m\u001b[0m \u001b[1m1s\u001b[0m 3ms/step - accuracy: 0.8898 - loss: 0.3025 - val_accuracy: 0.8457 - val_loss: 0.4040\n",
            "Epoch 12/15\n",
            "\u001b[1m92/92\u001b[0m \u001b[32m━━━━━━━━━━━━━━━━━━━━\u001b[0m\u001b[37m\u001b[0m \u001b[1m1s\u001b[0m 4ms/step - accuracy: 0.9104 - loss: 0.2523 - val_accuracy: 0.8470 - val_loss: 0.4112\n",
            "Epoch 13/15\n",
            "\u001b[1m92/92\u001b[0m \u001b[32m━━━━━━━━━━━━━━━━━━━━\u001b[0m\u001b[37m\u001b[0m \u001b[1m1s\u001b[0m 4ms/step - accuracy: 0.9115 - loss: 0.2528 - val_accuracy: 0.8824 - val_loss: 0.3704\n",
            "Epoch 14/15\n",
            "\u001b[1m92/92\u001b[0m \u001b[32m━━━━━━━━━━━━━━━━━━━━\u001b[0m\u001b[37m\u001b[0m \u001b[1m1s\u001b[0m 4ms/step - accuracy: 0.9159 - loss: 0.2249 - val_accuracy: 0.8851 - val_loss: 0.3561\n",
            "Epoch 15/15\n",
            "\u001b[1m92/92\u001b[0m \u001b[32m━━━━━━━━━━━━━━━━━━━━\u001b[0m\u001b[37m\u001b[0m \u001b[1m1s\u001b[0m 3ms/step - accuracy: 0.9185 - loss: 0.2177 - val_accuracy: 0.8980 - val_loss: 0.3393\n",
            "Epoch 1/20\n",
            "\u001b[1m92/92\u001b[0m \u001b[32m━━━━━━━━━━━━━━━━━━━━\u001b[0m\u001b[37m\u001b[0m \u001b[1m4s\u001b[0m 14ms/step - accuracy: 0.3860 - loss: 1.3398 - val_accuracy: 0.5901 - val_loss: 0.6723\n",
            "Epoch 2/20\n",
            "\u001b[1m92/92\u001b[0m \u001b[32m━━━━━━━━━━━━━━━━━━━━\u001b[0m\u001b[37m\u001b[0m \u001b[1m2s\u001b[0m 11ms/step - accuracy: 0.6211 - loss: 0.6598 - val_accuracy: 0.6207 - val_loss: 0.6555\n",
            "Epoch 3/20\n",
            "\u001b[1m92/92\u001b[0m \u001b[32m━━━━━━━━━━━━━━━━━━━━\u001b[0m\u001b[37m\u001b[0m \u001b[1m1s\u001b[0m 8ms/step - accuracy: 0.6535 - loss: 0.6076 - val_accuracy: 0.6363 - val_loss: 0.6202\n",
            "Epoch 4/20\n",
            "\u001b[1m92/92\u001b[0m \u001b[32m━━━━━━━━━━━━━━━━━━━━\u001b[0m\u001b[37m\u001b[0m \u001b[1m1s\u001b[0m 9ms/step - accuracy: 0.6999 - loss: 0.5905 - val_accuracy: 0.7056 - val_loss: 0.5327\n",
            "Epoch 5/20\n",
            "\u001b[1m92/92\u001b[0m \u001b[32m━━━━━━━━━━━━━━━━━━━━\u001b[0m\u001b[37m\u001b[0m \u001b[1m1s\u001b[0m 8ms/step - accuracy: 0.7727 - loss: 0.4803 - val_accuracy: 0.8001 - val_loss: 0.4347\n",
            "Epoch 6/20\n",
            "\u001b[1m92/92\u001b[0m \u001b[32m━━━━━━━━━━━━━━━━━━━━\u001b[0m\u001b[37m\u001b[0m \u001b[1m1s\u001b[0m 8ms/step - accuracy: 0.8046 - loss: 0.4178 - val_accuracy: 0.8015 - val_loss: 0.4458\n",
            "Epoch 7/20\n",
            "\u001b[1m92/92\u001b[0m \u001b[32m━━━━━━━━━━━━━━━━━━━━\u001b[0m\u001b[37m\u001b[0m \u001b[1m1s\u001b[0m 8ms/step - accuracy: 0.8219 - loss: 0.3918 - val_accuracy: 0.7797 - val_loss: 0.4380\n",
            "Epoch 8/20\n",
            "\u001b[1m92/92\u001b[0m \u001b[32m━━━━━━━━━━━━━━━━━━━━\u001b[0m\u001b[37m\u001b[0m \u001b[1m1s\u001b[0m 8ms/step - accuracy: 0.8438 - loss: 0.3568 - val_accuracy: 0.8715 - val_loss: 0.3178\n",
            "Epoch 9/20\n",
            "\u001b[1m92/92\u001b[0m \u001b[32m━━━━━━━━━━━━━━━━━━━━\u001b[0m\u001b[37m\u001b[0m \u001b[1m1s\u001b[0m 8ms/step - accuracy: 0.8662 - loss: 0.3271 - val_accuracy: 0.8436 - val_loss: 0.3621\n",
            "Epoch 10/20\n",
            "\u001b[1m92/92\u001b[0m \u001b[32m━━━━━━━━━━━━━━━━━━━━\u001b[0m\u001b[37m\u001b[0m \u001b[1m1s\u001b[0m 8ms/step - accuracy: 0.8817 - loss: 0.2889 - val_accuracy: 0.8702 - val_loss: 0.3029\n",
            "Epoch 11/20\n",
            "\u001b[1m92/92\u001b[0m \u001b[32m━━━━━━━━━━━━━━━━━━━━\u001b[0m\u001b[37m\u001b[0m \u001b[1m1s\u001b[0m 8ms/step - accuracy: 0.9073 - loss: 0.2483 - val_accuracy: 0.9007 - val_loss: 0.2666\n",
            "Epoch 12/20\n",
            "\u001b[1m92/92\u001b[0m \u001b[32m━━━━━━━━━━━━━━━━━━━━\u001b[0m\u001b[37m\u001b[0m \u001b[1m1s\u001b[0m 9ms/step - accuracy: 0.9158 - loss: 0.2225 - val_accuracy: 0.8865 - val_loss: 0.2706\n",
            "Epoch 13/20\n",
            "\u001b[1m92/92\u001b[0m \u001b[32m━━━━━━━━━━━━━━━━━━━━\u001b[0m\u001b[37m\u001b[0m \u001b[1m1s\u001b[0m 10ms/step - accuracy: 0.9067 - loss: 0.2311 - val_accuracy: 0.9123 - val_loss: 0.2293\n",
            "Epoch 14/20\n",
            "\u001b[1m92/92\u001b[0m \u001b[32m━━━━━━━━━━━━━━━━━━━━\u001b[0m\u001b[37m\u001b[0m \u001b[1m1s\u001b[0m 8ms/step - accuracy: 0.9092 - loss: 0.2395 - val_accuracy: 0.9143 - val_loss: 0.2329\n",
            "Epoch 15/20\n",
            "\u001b[1m92/92\u001b[0m \u001b[32m━━━━━━━━━━━━━━━━━━━━\u001b[0m\u001b[37m\u001b[0m \u001b[1m1s\u001b[0m 8ms/step - accuracy: 0.9373 - loss: 0.1665 - val_accuracy: 0.9273 - val_loss: 0.1970\n",
            "Epoch 16/20\n",
            "\u001b[1m92/92\u001b[0m \u001b[32m━━━━━━━━━━━━━━━━━━━━\u001b[0m\u001b[37m\u001b[0m \u001b[1m1s\u001b[0m 8ms/step - accuracy: 0.9387 - loss: 0.1612 - val_accuracy: 0.9225 - val_loss: 0.2248\n",
            "Epoch 17/20\n",
            "\u001b[1m92/92\u001b[0m \u001b[32m━━━━━━━━━━━━━━━━━━━━\u001b[0m\u001b[37m\u001b[0m \u001b[1m1s\u001b[0m 8ms/step - accuracy: 0.9430 - loss: 0.1501 - val_accuracy: 0.9286 - val_loss: 0.2258\n",
            "Epoch 18/20\n",
            "\u001b[1m92/92\u001b[0m \u001b[32m━━━━━━━━━━━━━━━━━━━━\u001b[0m\u001b[37m\u001b[0m \u001b[1m1s\u001b[0m 8ms/step - accuracy: 0.9426 - loss: 0.1571 - val_accuracy: 0.9266 - val_loss: 0.2128\n",
            "Epoch 19/20\n",
            "\u001b[1m92/92\u001b[0m \u001b[32m━━━━━━━━━━━━━━━━━━━━\u001b[0m\u001b[37m\u001b[0m \u001b[1m1s\u001b[0m 8ms/step - accuracy: 0.9430 - loss: 0.1505 - val_accuracy: 0.9266 - val_loss: 0.2131\n",
            "Epoch 20/20\n",
            "\u001b[1m92/92\u001b[0m \u001b[32m━━━━━━━━━━━━━━━━━━━━\u001b[0m\u001b[37m\u001b[0m \u001b[1m1s\u001b[0m 7ms/step - accuracy: 0.9353 - loss: 0.1605 - val_accuracy: 0.9354 - val_loss: 0.1758\n",
            "\u001b[1m93/93\u001b[0m \u001b[32m━━━━━━━━━━━━━━━━━━━━\u001b[0m\u001b[37m\u001b[0m \u001b[1m0s\u001b[0m 4ms/step - accuracy: 0.6431 - loss: 0.7183\n",
            "LSTM Test Accuracy: 0.6409908533096313\n",
            "\u001b[1m93/93\u001b[0m \u001b[32m━━━━━━━━━━━━━━━━━━━━\u001b[0m\u001b[37m\u001b[0m \u001b[1m1s\u001b[0m 6ms/step - accuracy: 0.8441 - loss: 0.6046\n",
            "CNN Test Accuracy: 0.8652867078781128\n",
            "\u001b[1m93/93\u001b[0m \u001b[32m━━━━━━━━━━━━━━━━━━━━\u001b[0m\u001b[37m\u001b[0m \u001b[1m0s\u001b[0m 4ms/step - accuracy: 0.8997 - loss: 0.4051\n",
            "CNN-LSTM Accuracy: 0.9148286581039429\n"
          ]
        }
      ]
    },
    {
      "cell_type": "markdown",
      "source": [
        "RESULTS OF DEEP LEARNING MODELS\n"
      ],
      "metadata": {
        "id": "S7ulb0il0g7Q"
      }
    },
    {
      "cell_type": "code",
      "source": [
        "#evaluate\n",
        "lstm_acc = model_lstm.evaluate(X_test_norm, y_test, verbose=0)[1]\n",
        "cnn_acc = model_cnn.evaluate(X_test_norm, y_test, verbose=0)[1]\n",
        "cnn_lstm_acc = model_cnn_lstm.evaluate(X_test_norm, y_test, verbose=0)[1]\n",
        "\n",
        "print(f\"LSTM Test Accuracy: {lstm_acc:.3f}\")\n",
        "print(f\"CNN Test Accuracy: {cnn_acc:.3f}\")\n",
        "print(f\"CNN-LSTM Test Accuracy: {cnn_lstm_acc:.3f}\")"
      ],
      "metadata": {
        "colab": {
          "base_uri": "https://localhost:8080/"
        },
        "id": "4d4FxLVuzKmj",
        "outputId": "4cb792ed-a46d-45d3-91ca-2b0539cf649b"
      },
      "execution_count": 15,
      "outputs": [
        {
          "output_type": "stream",
          "name": "stdout",
          "text": [
            "LSTM Test Accuracy: 0.641\n",
            "CNN Test Accuracy: 0.865\n",
            "CNN-LSTM Test Accuracy: 0.915\n"
          ]
        }
      ]
    },
    {
      "cell_type": "code",
      "source": [
        "from sklearn.metrics import accuracy_score\n",
        "\n",
        "# 1. Evaluate ML models with TSFEL features\n",
        "results = []\n",
        "for name, model in models.items():\n",
        "    # Train on TSFEL features\n",
        "    model.fit(X_train_tsfel, y_train)\n",
        "    y_pred = model.predict(X_test_tsfel)\n",
        "    acc = accuracy_score(y_test, y_pred)\n",
        "    results.append({'Model': f'{name} (TSFEL)', 'Accuracy': acc})\n",
        "\n",
        "    # Train on Original features\n",
        "    model.fit(X_train_orig_scaled, y_train)\n",
        "    y_pred = model.predict(X_test_orig_scaled)\n",
        "    acc = accuracy_score(y_test, y_pred)\n",
        "    results.append({'Model': f'{name} (Original)', 'Accuracy': acc})\n",
        "\n",
        "# 2. Evaluate DL models\n",
        "results.extend([\n",
        "    {'Model': 'LSTM', 'Accuracy': lstm_acc},\n",
        "    {'Model': '1D CNN', 'Accuracy': cnn_acc},\n",
        "    {'Model': 'CNN-LSTM', 'Accuracy':cnn_lstm_acc}\n",
        "])\n",
        "\n",
        "results_df = pd.DataFrame(results).sort_values('Accuracy', ascending=False)\n",
        "print(results_df) #print results"
      ],
      "metadata": {
        "colab": {
          "base_uri": "https://localhost:8080/"
        },
        "id": "T5-0vji1TSeA",
        "outputId": "e47a1327-4bd6-4f8b-ca1e-5462f0edcadd"
      },
      "execution_count": 19,
      "outputs": [
        {
          "output_type": "stream",
          "name": "stderr",
          "text": [
            "/usr/local/lib/python3.11/dist-packages/sklearn/linear_model/_logistic.py:465: ConvergenceWarning: lbfgs failed to converge (status=1):\n",
            "STOP: TOTAL NO. of ITERATIONS REACHED LIMIT.\n",
            "\n",
            "Increase the number of iterations (max_iter) or scale the data as shown in:\n",
            "    https://scikit-learn.org/stable/modules/preprocessing.html\n",
            "Please also refer to the documentation for alternative solver options:\n",
            "    https://scikit-learn.org/stable/modules/linear_model.html#logistic-regression\n",
            "  n_iter_i = _check_optimize_result(\n"
          ]
        },
        {
          "output_type": "stream",
          "name": "stdout",
          "text": [
            "                            Model  Accuracy\n",
            "5  Logistic Regression (Original)  0.956566\n",
            "3                  SVM (Original)  0.952155\n",
            "1        Random Forest (Original)  0.926366\n",
            "8                        CNN-LSTM  0.914829\n",
            "0           Random Forest (TSFEL)  0.910078\n",
            "7                          1D CNN  0.865287\n",
            "4     Logistic Regression (TSFEL)  0.853071\n",
            "2                     SVM (TSFEL)  0.763488\n",
            "6                            LSTM  0.640991\n"
          ]
        }
      ]
    },
    {
      "cell_type": "code",
      "source": [
        "results_df.to_csv('model_comparison_allmodels.csv', index=False)"
      ],
      "metadata": {
        "id": "tQcF6lj3U5aZ"
      },
      "execution_count": 20,
      "outputs": []
    },
    {
      "cell_type": "code",
      "source": [
        "import matplotlib.pyplot as plt\n",
        "\n",
        "plt.figure(figsize=(10, 6))\n",
        "results_df.set_index('Model')['Accuracy'].plot(kind='barh')\n",
        "plt.title('Model Comparison: TSFEL vs Original Features vs DL')\n",
        "plt.xlabel('Accuracy')\n",
        "plt.show()"
      ],
      "metadata": {
        "colab": {
          "base_uri": "https://localhost:8080/",
          "height": 564
        },
        "id": "CR1FpqZ0U76A",
        "outputId": "8c71bd8d-a7d4-4649-a23d-d29b7b90c1e1"
      },
      "execution_count": 21,
      "outputs": [
        {
          "output_type": "display_data",
          "data": {
            "text/plain": [
              "<Figure size 1000x600 with 1 Axes>"
            ],
            "image/png": "[encoded data removed]"
          },
          "metadata": {}
        }
      ]
    }
  ]
}